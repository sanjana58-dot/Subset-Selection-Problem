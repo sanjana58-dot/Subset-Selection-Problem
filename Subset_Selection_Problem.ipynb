{
  "nbformat": 4,
  "nbformat_minor": 0,
  "metadata": {
    "colab": {
      "provenance": [],
      "include_colab_link": true
    },
    "kernelspec": {
      "display_name": "Python 3",
      "language": "python",
      "name": "python3"
    },
    "language_info": {
      "codemirror_mode": {
        "name": "ipython",
        "version": 3
      },
      "file_extension": ".py",
      "mimetype": "text/x-python",
      "name": "python",
      "nbconvert_exporter": "python",
      "pygments_lexer": "ipython3",
      "version": "3.8.5"
    }
  },
  "cells": [
    {
      "cell_type": "markdown",
      "metadata": {
        "id": "view-in-github",
        "colab_type": "text"
      },
      "source": [
        "<a href=\"https://colab.research.google.com/github/sanjana58-dot/Subset-Selection-Problem/blob/main/Subset_Selection_Problem.ipynb\" target=\"_parent\"><img src=\"https://colab.research.google.com/assets/colab-badge.svg\" alt=\"Open In Colab\"/></a>"
      ]
    },
    {
      "cell_type": "markdown",
      "metadata": {
        "id": "7nQSRI4Dim1Y"
      },
      "source": [
        "  ---\n",
        "# **Subset Selection Problem**\n",
        "---\n",
        "####**1. Problem Statement:**\n",
        "Find all the subsets from a set of numbers whose sum is zero.\n",
        "\n",
        "####**Constraint: Subset size must be 5**\n",
        "Set={-12, -3, -6, 7, 2, -2, 6, 3, 9, -7, -5, -8, 1, 11, -9, -4}\n",
        "\n",
        "---"
      ]
    },
    {
      "cell_type": "markdown",
      "metadata": {
        "id": "A30y-VtNim1h"
      },
      "source": [
        "### **1.1 Library inclusion**"
      ]
    },
    {
      "cell_type": "code",
      "metadata": {
        "id": "cF_mSA9Xim1j"
      },
      "source": [
        "import random as r2"
      ],
      "execution_count": null,
      "outputs": []
    },
    {
      "cell_type": "markdown",
      "metadata": {
        "id": "UjvBYy0Lim1m"
      },
      "source": [
        "### **1.2 Parameter Setting**"
      ]
    },
    {
      "cell_type": "code",
      "metadata": {
        "id": "NHB2KMhZim1o"
      },
      "source": [
        "Set         = set([-12, -3, -6, 7, 2, -2, 6, 3, 9, -7, -5, -8, 1, 11, -9, -4])\n",
        "SetSize     = 5\n",
        "ResultList  = set()    # Store Result List i.e. list of sets whose sum is zero\n",
        "Iterations  = 1000    # Number of Inerations"
      ],
      "execution_count": null,
      "outputs": []
    },
    {
      "cell_type": "markdown",
      "metadata": {
        "id": "BTLd3s--im1c"
      },
      "source": [
        "### **1.3 Start Program**\n",
        "\n",
        "\n"
      ]
    },
    {
      "cell_type": "code",
      "metadata": {
        "id": "veBU-f21im1x",
        "outputId": "10b6a739-d3d1-4d94-c309-cd5566c6c8d7",
        "colab": {
          "base_uri": "https://localhost:8080/"
        }
      },
      "source": [
        "# Loop till number of Iterations\n",
        "for i in range(Iterations):\n",
        "    # Select number of elements from Set\n",
        "    Chromosome = r.sample(Set,SetSize)\n",
        "\n",
        "    # Sum the number of elements in the Chromosome\n",
        "    if sum(Chromosome) == 0:\n",
        "        ResultList.add(tuple(Chromosome))"
      ],
      "execution_count": null,
      "outputs": [
        {
          "output_type": "stream",
          "name": "stderr",
          "text": [
            "<ipython-input-4-03544d6be9f3>:4: DeprecationWarning: Sampling from a set deprecated\n",
            "since Python 3.9 and will be removed in a subsequent version.\n",
            "  Chromosome = r.sample(Set,SetSize)\n"
          ]
        }
      ]
    },
    {
      "cell_type": "markdown",
      "metadata": {
        "id": "nRWYsJNVim1z"
      },
      "source": [
        "### **1.4 Print the sets and total count**\n"
      ]
    },
    {
      "cell_type": "code",
      "metadata": {
        "colab": {
          "base_uri": "https://localhost:8080/"
        },
        "id": "41abL1k-im10",
        "scrolled": true,
        "outputId": "80e5fcdb-9739-401e-ede2-c33365995672"
      },
      "source": [
        "# Print all the sets whose sum is zero\n",
        "for r in ResultList:\n",
        "\tprint (r)\n",
        "\n",
        "# Print total sets\n",
        "print (\"\\nTotal Sets: \", len(ResultList), \"\\n\")"
      ],
      "execution_count": null,
      "outputs": [
        {
          "output_type": "stream",
          "name": "stdout",
          "text": [
            "(-7, 3, 9, -6, 1)\n",
            "(7, -6, -2, 9, -8)\n",
            "(-2, -9, 11, -6, 6)\n",
            "(2, 7, -9, -6, 6)\n",
            "(-2, 3, 11, -8, -4)\n",
            "(3, -5, -6, 7, 1)\n",
            "(-4, 3, -8, 7, 2)\n",
            "(3, 6, 9, -12, -6)\n",
            "(3, 6, -8, -12, 11)\n",
            "(7, -9, 1, -2, 3)\n",
            "(-5, -9, 11, -3, 6)\n",
            "(-9, -3, 9, -8, 11)\n",
            "(2, 11, -8, 7, -12)\n",
            "(-5, 9, -4, 3, -3)\n",
            "(-2, 7, 9, -6, -8)\n",
            "(1, -9, -5, 2, 11)\n",
            "(-4, -2, -5, 2, 9)\n",
            "(-5, 7, -6, 3, 1)\n",
            "(6, 7, -3, -8, -2)\n",
            "(11, 3, -6, 1, -9)\n",
            "(-3, 9, -9, -4, 7)\n",
            "(-3, 11, 3, -4, -7)\n",
            "(7, 9, -12, 2, -6)\n",
            "(2, 7, -6, -4, 1)\n",
            "(2, 3, 7, -9, -3)\n",
            "(11, 2, -7, -12, 6)\n",
            "(7, 2, 11, -8, -12)\n",
            "(-9, 3, -2, 6, 2)\n",
            "(-3, -7, 3, 11, -4)\n",
            "(7, -6, 1, 3, -5)\n",
            "(2, -3, -7, 1, 7)\n",
            "(-3, 9, 11, -5, -12)\n",
            "(11, -8, -6, 7, -4)\n",
            "(-5, 11, 3, -2, -7)\n",
            "(2, 9, -2, -4, -5)\n",
            "\n",
            "Total Sets:  35 \n",
            "\n"
          ]
        }
      ]
    },
    {
      "cell_type": "markdown",
      "metadata": {
        "id": "E3BNV7YLim12"
      },
      "source": [
        "---\n",
        "### **1.5 Complete Program**\n",
        "---"
      ]
    },
    {
      "cell_type": "code",
      "metadata": {
        "colab": {
          "base_uri": "https://localhost:8080/"
        },
        "id": "c6KthRB9im14",
        "outputId": "82adbf7c-dbb3-49df-86a6-5c3d1824de45"
      },
      "source": [
        "#-------------------------------------------------------------\n",
        "# Step 1: Library inclusion\n",
        "#-------------------------------------------------------------\n",
        "import random as r\n",
        "\n",
        "\n",
        "#-------------------------------------------------------------\n",
        "# Step 2: Parameter Setting\n",
        "#-------------------------------------------------------------\n",
        "Set         = set([-12, -3, -6, 7, 2, -2, 6, 3, 9, -7, -5, -8, 1, 11, -9, -4])\n",
        "SetSize     = 5\n",
        "ResultList  = set()    # Store Result List i.e. list of sets whose sum is zero\n",
        "Iterations  = 1000   # Number of Inerations\n",
        "\n",
        "\n",
        "#-------------------------------------------------------------\n",
        "# Step3: Start Program\n",
        "#-------------------------------------------------------------\n",
        "\n",
        "# Loop till number of Iterations\n",
        "for i in range(Iterations):\n",
        "    # Select number of elements from Set\n",
        "    Chromosome = r.sample(Set,SetSize)\n",
        "\n",
        "    # Sum the number of elements in the Chromosome\n",
        "    if sum(Chromosome) == 0:\n",
        "        ResultList.add(tuple(Chromosome))\n",
        "\n",
        "# Print all the sets whose sum is zero\n",
        "for r in ResultList:\n",
        "\tprint (r)\n",
        "\n",
        "# Print total sets\n",
        "print (\"\\nTotal Sets: \", len(ResultList))\n"
      ],
      "execution_count": null,
      "outputs": [
        {
          "output_type": "stream",
          "name": "stdout",
          "text": [
            "(-12, 3, -9, 11, 7)\n",
            "(-7, 7, 9, -4, -5)\n",
            "(-6, -5, 11, 3, -3)\n",
            "(7, -2, -5, 9, -9)\n",
            "(1, -8, -6, 11, 2)\n",
            "(-2, -4, 6, -9, 9)\n",
            "(11, -2, -5, -6, 2)\n",
            "(-2, -8, 1, 6, 3)\n",
            "(-7, 11, -12, 1, 7)\n",
            "(-8, 9, -5, 7, -3)\n",
            "(6, -6, 11, -12, 1)\n",
            "(-12, 3, -2, 2, 9)\n",
            "(11, 7, -12, -8, 2)\n",
            "(-2, 2, -8, 7, 1)\n",
            "(1, -8, -2, 7, 2)\n",
            "(-6, -3, -7, 9, 7)\n",
            "(11, 1, -6, -9, 3)\n",
            "(9, 3, 2, -8, -6)\n",
            "(-4, -2, 11, 7, -12)\n",
            "(7, -8, 2, 3, -4)\n",
            "(-2, 6, -5, 7, -6)\n",
            "(7, -2, -9, 11, -7)\n",
            "\n",
            "Total Sets:  22\n"
          ]
        },
        {
          "output_type": "stream",
          "name": "stderr",
          "text": [
            "<ipython-input-9-863105f7322f>:23: DeprecationWarning: Sampling from a set deprecated\n",
            "since Python 3.9 and will be removed in a subsequent version.\n",
            "  Chromosome = r.sample(Set,SetSize)\n"
          ]
        }
      ]
    },
    {
      "cell_type": "markdown",
      "metadata": {
        "id": "stxrIcZtk4LT"
      },
      "source": [
        "---\n",
        "### **1.6 Complete Program with sorting**\n",
        "---"
      ]
    },
    {
      "cell_type": "code",
      "metadata": {
        "colab": {
          "base_uri": "https://localhost:8080/"
        },
        "outputId": "bf38b57a-40a3-414a-86e7-678da828e20f",
        "id": "zzblepy0k4LU"
      },
      "source": [
        "#-------------------------------------------------------------\n",
        "# Step 1: Library inclusion\n",
        "#-------------------------------------------------------------\n",
        "import random as r\n",
        "\n",
        "\n",
        "#-------------------------------------------------------------\n",
        "# Step 2: Parameter Setting\n",
        "#-------------------------------------------------------------\n",
        "Set         = set([-12, -3, -6, 7, 2, -2, 6, 3, 9, -7, -5, -8, 1, 11, -9, -4])\n",
        "SetSize     = 5\n",
        "ResultList  = set()    # Store Result List i.e. list of sets whose sum is zero\n",
        "Iterations  = 1000   # Number of Inerations\n",
        "\n",
        "\n",
        "#-------------------------------------------------------------\n",
        "# Step3: Start Program\n",
        "#-------------------------------------------------------------\n",
        "\n",
        "# Loop till number of Iterations\n",
        "for i in range(Iterations):\n",
        "    # Select number of elements from Set\n",
        "    Chromosome = r.sample(Set,SetSize)\n",
        "    Chromosome.sort()\n",
        "\n",
        "    # Sum the number of elements in the Chromosome\n",
        "    if sum(Chromosome) == 0:\n",
        "        ResultList.add(tuple(Chromosome))\n",
        "\n",
        "# Print all the sets whose sum is zero\n",
        "for r in ResultList:\n",
        "\tprint (r)\n",
        "\n",
        "# Print total sets\n",
        "print (\"\\nTotal Sets: \", len(ResultList))\n"
      ],
      "execution_count": null,
      "outputs": [
        {
          "output_type": "stream",
          "name": "stdout",
          "text": [
            "(-12, -6, 2, 7, 9)\n",
            "(-6, -5, 1, 3, 7)\n",
            "(-9, -7, 2, 3, 11)\n",
            "(-7, -3, 1, 3, 6)\n",
            "(-8, -6, 1, 6, 7)\n",
            "(-12, -3, -2, 6, 11)\n",
            "(-9, -2, 2, 3, 6)\n",
            "(-9, -5, 2, 3, 9)\n",
            "(-7, -6, 1, 3, 9)\n",
            "(-7, -3, -2, 3, 9)\n",
            "(-9, -6, -3, 7, 11)\n",
            "(-8, -2, 1, 3, 6)\n",
            "(-9, -8, 1, 7, 9)\n",
            "(-9, -6, -5, 9, 11)\n",
            "(-9, -7, 3, 6, 7)\n",
            "(-8, -5, 1, 3, 9)\n",
            "(-12, -5, 2, 6, 9)\n",
            "(-9, -6, 1, 3, 11)\n",
            "(-8, -5, -3, 7, 9)\n",
            "\n",
            "Total Sets:  19\n"
          ]
        },
        {
          "output_type": "stream",
          "name": "stderr",
          "text": [
            "<ipython-input-10-91cb451df7bd>:23: DeprecationWarning: Sampling from a set deprecated\n",
            "since Python 3.9 and will be removed in a subsequent version.\n",
            "  Chromosome = r.sample(Set,SetSize)\n"
          ]
        }
      ]
    },
    {
      "cell_type": "markdown",
      "metadata": {
        "id": "Kaevs6ROim18"
      },
      "source": [
        "---\n",
        "####**2. Problem Statement:**\n",
        "Find all the subsets from a set of numbers whose sum is zero.\n",
        "\n",
        "####**Constraint: Subset size must be 3 to 6 only**\n",
        "Set={-12, -3, -6, 7, 2, -2, 6, 3, 9, -7, -5, -8, 1, 11, -9, -4}\n",
        "\n",
        "---"
      ]
    },
    {
      "cell_type": "code",
      "metadata": {
        "colab": {
          "base_uri": "https://localhost:8080/"
        },
        "id": "XmPJbrOXim19",
        "outputId": "8205bd27-8b30-43ae-eb3d-e0250cafc3e6"
      },
      "source": [
        "#-------------------------------------------------------------\n",
        "# Step 1: Library inclusion\n",
        "#-------------------------------------------------------------\n",
        "import random as r\n",
        "\n",
        "\n",
        "#-------------------------------------------------------------\n",
        "# Step 2: Parameter Setting\n",
        "#-------------------------------------------------------------\n",
        "Set         = set([-12, -3, -6, 7, 2, -2, 6, 3, 9, -7, -5, -8, 1, 11, -9, -4])\n",
        "SetLB       = 3\n",
        "SetUB       = 6\n",
        "ResultList  = set()    # Store Result List i.e. list of sets whose sum is zero\n",
        "Iterations  = 1000   # Number of Inerations\n",
        "\n",
        "\n",
        "#-------------------------------------------------------------\n",
        "# Step3: Start Program\n",
        "#-------------------------------------------------------------\n",
        "\n",
        "# Loop till number of Iterations\n",
        "Iterations = 1000\n",
        "for i in range(Iterations):\n",
        "    # Select set size randomly\n",
        "    SetSize = r.randint(SetLB,SetUB)\n",
        "\n",
        "    # Select number of elements from Set\n",
        "    Chromosome = r.sample(Set,SetSize)\n",
        "    Chromosome.sort()\n",
        "\n",
        "    # Sum the number of elements in the Chromosome\n",
        "    if sum(Chromosome) == 0:\n",
        "        ResultList.add(tuple(Chromosome))\n",
        "\n",
        "# Print all the sets whose sum is zero\n",
        "for r in ResultList:\n",
        "\tprint (r)\n",
        "\n",
        "# Print total sets\n",
        "print (\"\\nTotal Sets: \", len(ResultList))\n"
      ],
      "execution_count": null,
      "outputs": [
        {
          "output_type": "stream",
          "name": "stdout",
          "text": [
            "(-12, -6, -2, 9, 11)\n",
            "(-6, -5, -3, -2, 7, 9)\n",
            "(-9, 2, 7)\n",
            "(-12, -3, -2, 2, 6, 9)\n",
            "(-5, -4, 1, 2, 6)\n",
            "(-9, -3, 3, 9)\n",
            "(-12, -7, -3, 2, 9, 11)\n",
            "(-8, -6, 3, 11)\n",
            "(-8, -7, -4, 3, 7, 9)\n",
            "(-5, -3, 2, 6)\n",
            "(-4, 1, 3)\n",
            "(-9, -4, -3, 7, 9)\n",
            "(-5, -3, 1, 7)\n",
            "(-7, -2, 9)\n",
            "(-5, -4, 2, 7)\n",
            "(-12, 1, 11)\n",
            "(-12, -7, 2, 6, 11)\n",
            "(-6, -4, 1, 9)\n",
            "(-8, 1, 7)\n",
            "(-6, -3, 3, 6)\n",
            "(-12, -2, 2, 3, 9)\n",
            "(-12, -3, 6, 9)\n",
            "(-9, -7, -2, 7, 11)\n",
            "(-7, -5, -4, -2, 7, 11)\n",
            "(-5, -2, 7)\n",
            "(-7, -2, 2, 7)\n",
            "(-7, -4, 2, 9)\n",
            "(-9, -7, -3, 3, 7, 9)\n",
            "(-9, -8, -4, 1, 9, 11)\n",
            "(-8, -7, -2, 6, 11)\n",
            "(-5, -4, -2, 2, 9)\n",
            "(-8, -3, 11)\n",
            "(-9, -4, 6, 7)\n",
            "(-7, -2, 3, 6)\n",
            "\n",
            "Total Sets:  34\n"
          ]
        },
        {
          "output_type": "stream",
          "name": "stderr",
          "text": [
            "<ipython-input-12-edbf87755a54>:28: DeprecationWarning: Sampling from a set deprecated\n",
            "since Python 3.9 and will be removed in a subsequent version.\n",
            "  Chromosome = r.sample(Set,SetSize)\n"
          ]
        }
      ]
    }
  ]
}